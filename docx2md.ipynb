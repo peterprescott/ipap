{
 "cells": [
  {
   "cell_type": "code",
   "execution_count": 3,
   "metadata": {},
   "outputs": [],
   "source": [
    "import sys\n",
    "from docx import Document"
   ]
  },
  {
   "cell_type": "code",
   "execution_count": null,
   "metadata": {},
   "outputs": [],
   "source": [
    "def convert(doc_name):\n",
    "    doc = Document('form.docx')\n",
    "    paragraph_break = \"\\n\"\n",
    "    doc_content = \"\"\n",
    "    for p in doc.paragraphs:\n",
    "        doc_content += f\"{p.text}{paragraph_break}\"\n",
    "\n",
    "    with open(f'{doc_name}.md', 'w') as file:\n",
    "        file.write(doc_content)"
   ]
  },
  {
   "cell_type": "code",
   "execution_count": 5,
   "metadata": {},
   "outputs": [],
   "source": [
    "terminal_prompt = sys.argv\n",
    "filenames = terminal_prompt[1:]\n",
    "for f in filenames:\n",
    "    convert(f)"
   ]
  }
 ],
 "metadata": {
  "jupytext": {
   "formats": "ipynb,py:percent"
  },
  "kernelspec": {
   "display_name": "Python 3",
   "language": "python",
   "name": "python3"
  },
  "language_info": {
   "codemirror_mode": {
    "name": "ipython",
    "version": 3
   },
   "file_extension": ".py",
   "mimetype": "text/x-python",
   "name": "python",
   "nbconvert_exporter": "python",
   "pygments_lexer": "ipython3",
   "version": "3.8.2"
  }
 },
 "nbformat": 4,
 "nbformat_minor": 4
}
